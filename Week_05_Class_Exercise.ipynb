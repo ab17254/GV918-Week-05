{
  "nbformat": 4,
  "nbformat_minor": 0,
  "metadata": {
    "colab": {
      "name": "Week 05 Class Exercise.ipynb",
      "provenance": [],
      "collapsed_sections": [],
      "toc_visible": true
    },
    "kernelspec": {
      "name": "python3",
      "display_name": "Python 3"
    }
  },
  "cells": [
    {
      "cell_type": "markdown",
      "metadata": {
        "id": "zYZzWQ0GG1t1"
      },
      "source": [
        "# Description\n",
        "\n",
        "In this exercise, we will visualize the UK Constituency data we used in the previous week. continue the analysis of UK Political Data. \n"
      ]
    },
    {
      "cell_type": "markdown",
      "metadata": {
        "id": "yDSMvqBtf1p8"
      },
      "source": [
        "# Clone a data repository\n",
        "\n",
        "As we will use the data for several weeks, I decided to create a separate repository for the data. We can clone the reposiotory to Colab working directory to start working on the data.\n",
        "\n",
        "For this week, I added parliamentary constituency shape file, downloaded from here:\n",
        "\n",
        "https://geoportal.statistics.gov.uk/datasets/5ce27b980ffb43c39b012c2ebeab92c0_2\n"
      ]
    },
    {
      "cell_type": "code",
      "metadata": {
        "id": "VPyuaghcgKI4",
        "outputId": "1247ee85-d6d7-47ef-fa56-d6b3dd470220",
        "colab": {
          "base_uri": "https://localhost:8080/"
        }
      },
      "source": [
        "!git clone  https://github.com/University-of-Essex-Dept-of-Government/GV918-UK-politics-data"
      ],
      "execution_count": 1,
      "outputs": [
        {
          "output_type": "stream",
          "text": [
            "Cloning into 'GV918-UK-politics-data'...\n",
            "remote: Enumerating objects: 16, done.\u001b[K\n",
            "remote: Counting objects: 100% (16/16), done.\u001b[K\n",
            "remote: Compressing objects: 100% (15/15), done.\u001b[K\n",
            "remote: Total 16 (delta 1), reused 0 (delta 0), pack-reused 0\u001b[K\n",
            "Unpacking objects: 100% (16/16), done.\n"
          ],
          "name": "stdout"
        }
      ]
    },
    {
      "cell_type": "markdown",
      "metadata": {
        "id": "-H_ykAv9XnhS"
      },
      "source": [
        "# Load packages"
      ]
    },
    {
      "cell_type": "code",
      "metadata": {
        "id": "BNnah5uCH2PQ"
      },
      "source": [
        "import pandas as pd\n",
        "import numpy as np\n",
        "import matplotlib.pyplot as plt\n",
        "import seaborn as sns\n",
        "\n",
        "sns.set_style('whitegrid')"
      ],
      "execution_count": 3,
      "outputs": []
    },
    {
      "cell_type": "markdown",
      "metadata": {
        "id": "UxZZK0qlH2nA"
      },
      "source": [
        "## Rerun the code from the last week"
      ]
    },
    {
      "cell_type": "code",
      "metadata": {
        "id": "xK3OoYQjI5eB",
        "outputId": "f44daac8-3365-452b-de15-db0084d92be5",
        "colab": {
          "base_uri": "https://localhost:8080/",
          "height": 220
        }
      },
      "source": [
        "\n",
        "df_elec = pd.read_excel(\"/content/GV918-UK-politics-data/Data/general-election-results-2019.xlsx\", sheet_name = 'voting-summary')\n",
        "\n",
        "df_brexit = pd.read_csv(\"/content/GV918-UK-politics-data/Data/brexit-vote.csv\")\n",
        "\n",
        "df_brexit.rename({'PCON11CD':'ons_id'}, axis = 1, inplace=True)\n",
        "\n",
        "\"\"\"## Select columns\"\"\"\n",
        "\n",
        "df_brexit.rename({'Figure to use':'leave_pct'}, axis = 1, inplace=True)\n",
        "\n",
        "df_brexit_sub = df_brexit[['ons_id', 'leave_pct']]\n",
        "\n",
        "df_elec['con_pct'] = df_elec['con'] / df_elec['valid_votes']\n",
        "df_elec['lab_pct'] = df_elec['lab'] / df_elec['valid_votes']\n",
        "\n",
        "df_elec.head()\n",
        "\n",
        "\"\"\"# Unemployment data\"\"\"\n",
        "# use \"left\" merge\n",
        "\n",
        "df_merge = df_elec.merge(df_brexit_sub, how='left', on = \"ons_id\")\n",
        "df_unemp = pd.read_excel('/content/GV918-UK-politics-data/Data/Unemployment.xlsx', sheet_name = \"Data\")\n",
        "df_unemp_sub = df_unemp[df_unemp['DateOfDataset'] == '2019-11-01'][['ONSConstID', 'UnempConstRate']]\n",
        "df_merge = df_merge.merge(df_unemp_sub, left_on = 'ons_id', right_on = 'ONSConstID')\n",
        "\n",
        "\"\"\"# Housing price dataset\"\"\"\n",
        "\n",
        "df_housing = pd.read_excel(\"/content/GV918-UK-politics-data/Data/House-prices.xlsx\", \n",
        "                           sheet_name=\"Constituency data table\")\n",
        "\n",
        "df_housing['ConstPercentChangeOneYr'] = pd.to_numeric(df_housing['ConstPercentChangeOneYr'],\n",
        "                                                                 errors='coerce')\n",
        "df_housing_sub = df_housing[['ONSConstID', 'ConstPercentChangeOneYr']][df_housing['DateOfDataset'] == '2019-09-01']\n",
        "df_merge = df_merge.merge(df_housing_sub, left_on=\"ons_id\", right_on = \"ONSConstID\")\n",
        "\n",
        "df_merge.head()\n",
        "\n",
        "\"\"\"## Population dataset\"\"\"\n",
        "\n",
        "df_pop = pd.read_excel(\"/content/GV918-UK-politics-data/Data/population-by-age.xlsx\", \n",
        "                       sheet_name = 'Age by year data')\n",
        "df_pop_sub = df_pop[df_pop['Age_year'] >= 65]\n",
        "df_elderly = df_pop_sub[['PCON11CD', 'Age_percent']].groupby('PCON11CD').sum().reset_index()\n",
        "df_merge = df_merge.merge(df_elderly, left_on = 'ons_id', right_on = 'PCON11CD')\n",
        "\n",
        "df_merge.loc[:, ['con_pct', 'lab_pct','leave_pct', 'Age_percent', 'ConstPercentChangeOneYr', 'UnempConstRate']].corr()\n"
      ],
      "execution_count": 4,
      "outputs": [
        {
          "output_type": "execute_result",
          "data": {
            "text/html": [
              "<div>\n",
              "<style scoped>\n",
              "    .dataframe tbody tr th:only-of-type {\n",
              "        vertical-align: middle;\n",
              "    }\n",
              "\n",
              "    .dataframe tbody tr th {\n",
              "        vertical-align: top;\n",
              "    }\n",
              "\n",
              "    .dataframe thead th {\n",
              "        text-align: right;\n",
              "    }\n",
              "</style>\n",
              "<table border=\"1\" class=\"dataframe\">\n",
              "  <thead>\n",
              "    <tr style=\"text-align: right;\">\n",
              "      <th></th>\n",
              "      <th>con_pct</th>\n",
              "      <th>lab_pct</th>\n",
              "      <th>leave_pct</th>\n",
              "      <th>Age_percent</th>\n",
              "      <th>ConstPercentChangeOneYr</th>\n",
              "      <th>UnempConstRate</th>\n",
              "    </tr>\n",
              "  </thead>\n",
              "  <tbody>\n",
              "    <tr>\n",
              "      <th>con_pct</th>\n",
              "      <td>1.000000</td>\n",
              "      <td>-0.411415</td>\n",
              "      <td>0.595458</td>\n",
              "      <td>0.564467</td>\n",
              "      <td>-0.060931</td>\n",
              "      <td>-0.414482</td>\n",
              "    </tr>\n",
              "    <tr>\n",
              "      <th>lab_pct</th>\n",
              "      <td>-0.411415</td>\n",
              "      <td>1.000000</td>\n",
              "      <td>-0.150890</td>\n",
              "      <td>-0.593286</td>\n",
              "      <td>0.137952</td>\n",
              "      <td>0.568125</td>\n",
              "    </tr>\n",
              "    <tr>\n",
              "      <th>leave_pct</th>\n",
              "      <td>0.595458</td>\n",
              "      <td>-0.150890</td>\n",
              "      <td>1.000000</td>\n",
              "      <td>0.393101</td>\n",
              "      <td>0.167908</td>\n",
              "      <td>0.168809</td>\n",
              "    </tr>\n",
              "    <tr>\n",
              "      <th>Age_percent</th>\n",
              "      <td>0.564467</td>\n",
              "      <td>-0.593286</td>\n",
              "      <td>0.393101</td>\n",
              "      <td>1.000000</td>\n",
              "      <td>0.021177</td>\n",
              "      <td>-0.379418</td>\n",
              "    </tr>\n",
              "    <tr>\n",
              "      <th>ConstPercentChangeOneYr</th>\n",
              "      <td>-0.060931</td>\n",
              "      <td>0.137952</td>\n",
              "      <td>0.167908</td>\n",
              "      <td>0.021177</td>\n",
              "      <td>1.000000</td>\n",
              "      <td>0.189798</td>\n",
              "    </tr>\n",
              "    <tr>\n",
              "      <th>UnempConstRate</th>\n",
              "      <td>-0.414482</td>\n",
              "      <td>0.568125</td>\n",
              "      <td>0.168809</td>\n",
              "      <td>-0.379418</td>\n",
              "      <td>0.189798</td>\n",
              "      <td>1.000000</td>\n",
              "    </tr>\n",
              "  </tbody>\n",
              "</table>\n",
              "</div>"
            ],
            "text/plain": [
              "                          con_pct  ...  UnempConstRate\n",
              "con_pct                  1.000000  ...       -0.414482\n",
              "lab_pct                 -0.411415  ...        0.568125\n",
              "leave_pct                0.595458  ...        0.168809\n",
              "Age_percent              0.564467  ...       -0.379418\n",
              "ConstPercentChangeOneYr -0.060931  ...        0.189798\n",
              "UnempConstRate          -0.414482  ...        1.000000\n",
              "\n",
              "[6 rows x 6 columns]"
            ]
          },
          "metadata": {
            "tags": []
          },
          "execution_count": 4
        }
      ]
    },
    {
      "cell_type": "code",
      "metadata": {
        "id": "QGTom0iFqIol",
        "outputId": "3134dad8-dd10-4bee-ffd3-3b42ddd2166d",
        "colab": {
          "base_uri": "https://localhost:8080/"
        }
      },
      "source": [
        "df_merge.shape"
      ],
      "execution_count": 5,
      "outputs": [
        {
          "output_type": "execute_result",
          "data": {
            "text/plain": [
              "(650, 48)"
            ]
          },
          "metadata": {
            "tags": []
          },
          "execution_count": 5
        }
      ]
    },
    {
      "cell_type": "code",
      "metadata": {
        "id": "AlCDo3vDemsk",
        "outputId": "28f225e7-bfca-427e-c12b-85404dbc1c60",
        "colab": {
          "base_uri": "https://localhost:8080/",
          "height": 671
        }
      },
      "source": [
        "df_merge"
      ],
      "execution_count": 29,
      "outputs": [
        {
          "output_type": "execute_result",
          "data": {
            "text/html": [
              "<div>\n",
              "<style scoped>\n",
              "    .dataframe tbody tr th:only-of-type {\n",
              "        vertical-align: middle;\n",
              "    }\n",
              "\n",
              "    .dataframe tbody tr th {\n",
              "        vertical-align: top;\n",
              "    }\n",
              "\n",
              "    .dataframe thead th {\n",
              "        text-align: right;\n",
              "    }\n",
              "</style>\n",
              "<table border=\"1\" class=\"dataframe\">\n",
              "  <thead>\n",
              "    <tr style=\"text-align: right;\">\n",
              "      <th></th>\n",
              "      <th>ons_id</th>\n",
              "      <th>ons_region_id</th>\n",
              "      <th>constituency_name</th>\n",
              "      <th>county_name</th>\n",
              "      <th>region_name</th>\n",
              "      <th>country_name</th>\n",
              "      <th>constituency_type</th>\n",
              "      <th>declaration_time</th>\n",
              "      <th>mp_firstname</th>\n",
              "      <th>mp_surname</th>\n",
              "      <th>mp_gender</th>\n",
              "      <th>result</th>\n",
              "      <th>first_party</th>\n",
              "      <th>second_party</th>\n",
              "      <th>electorate</th>\n",
              "      <th>valid_votes</th>\n",
              "      <th>invalid_votes</th>\n",
              "      <th>majority</th>\n",
              "      <th>con</th>\n",
              "      <th>lab</th>\n",
              "      <th>ld</th>\n",
              "      <th>brexit</th>\n",
              "      <th>green</th>\n",
              "      <th>snp</th>\n",
              "      <th>pc</th>\n",
              "      <th>dup</th>\n",
              "      <th>sf</th>\n",
              "      <th>sdlp</th>\n",
              "      <th>uup</th>\n",
              "      <th>alliance</th>\n",
              "      <th>other</th>\n",
              "      <th>other_winner</th>\n",
              "      <th>mp_fullname</th>\n",
              "      <th>majority_percent</th>\n",
              "      <th>majority_rank</th>\n",
              "      <th>turnout_const</th>\n",
              "      <th>turnout_reg</th>\n",
              "      <th>turnout_uk</th>\n",
              "      <th>turnout_2017</th>\n",
              "      <th>con_pct</th>\n",
              "      <th>lab_pct</th>\n",
              "      <th>leave_pct</th>\n",
              "      <th>ONSConstID_x</th>\n",
              "      <th>UnempConstRate</th>\n",
              "      <th>ONSConstID_y</th>\n",
              "      <th>ConstPercentChangeOneYr</th>\n",
              "      <th>PCON11CD</th>\n",
              "      <th>Age_percent</th>\n",
              "    </tr>\n",
              "  </thead>\n",
              "  <tbody>\n",
              "    <tr>\n",
              "      <th>0</th>\n",
              "      <td>W07000049</td>\n",
              "      <td>W92000004</td>\n",
              "      <td>Aberavon</td>\n",
              "      <td>West Glamorgan</td>\n",
              "      <td>Wales</td>\n",
              "      <td>Wales</td>\n",
              "      <td>County</td>\n",
              "      <td>2019-12-13 02:30:00</td>\n",
              "      <td>Stephen</td>\n",
              "      <td>Kinnock</td>\n",
              "      <td>Male</td>\n",
              "      <td>Lab hold</td>\n",
              "      <td>Lab</td>\n",
              "      <td>Con</td>\n",
              "      <td>50750</td>\n",
              "      <td>31598</td>\n",
              "      <td>82</td>\n",
              "      <td>10490</td>\n",
              "      <td>6518</td>\n",
              "      <td>17008</td>\n",
              "      <td>1072</td>\n",
              "      <td>3108</td>\n",
              "      <td>450</td>\n",
              "      <td>0</td>\n",
              "      <td>2711</td>\n",
              "      <td>0</td>\n",
              "      <td>0</td>\n",
              "      <td>0</td>\n",
              "      <td>0</td>\n",
              "      <td>0</td>\n",
              "      <td>731</td>\n",
              "      <td>0</td>\n",
              "      <td>Stephen Kinnock</td>\n",
              "      <td>0.331983</td>\n",
              "      <td>209</td>\n",
              "      <td>0.622621</td>\n",
              "      <td>0.665721</td>\n",
              "      <td>0.673108</td>\n",
              "      <td>0.666800</td>\n",
              "      <td>0.206279</td>\n",
              "      <td>0.538262</td>\n",
              "      <td>0.601245</td>\n",
              "      <td>W07000049</td>\n",
              "      <td>0.036222</td>\n",
              "      <td>W07000049</td>\n",
              "      <td>0.023233</td>\n",
              "      <td>W07000049</td>\n",
              "      <td>0.196541</td>\n",
              "    </tr>\n",
              "    <tr>\n",
              "      <th>1</th>\n",
              "      <td>W07000058</td>\n",
              "      <td>W92000004</td>\n",
              "      <td>Aberconwy</td>\n",
              "      <td>Clwyd</td>\n",
              "      <td>Wales</td>\n",
              "      <td>Wales</td>\n",
              "      <td>County</td>\n",
              "      <td>2019-12-13 03:09:00</td>\n",
              "      <td>Robin</td>\n",
              "      <td>Millar</td>\n",
              "      <td>Male</td>\n",
              "      <td>Con hold</td>\n",
              "      <td>Con</td>\n",
              "      <td>Lab</td>\n",
              "      <td>44699</td>\n",
              "      <td>31865</td>\n",
              "      <td>123</td>\n",
              "      <td>2034</td>\n",
              "      <td>14687</td>\n",
              "      <td>12653</td>\n",
              "      <td>1821</td>\n",
              "      <td>0</td>\n",
              "      <td>0</td>\n",
              "      <td>0</td>\n",
              "      <td>2704</td>\n",
              "      <td>0</td>\n",
              "      <td>0</td>\n",
              "      <td>0</td>\n",
              "      <td>0</td>\n",
              "      <td>0</td>\n",
              "      <td>0</td>\n",
              "      <td>0</td>\n",
              "      <td>Robin Millar</td>\n",
              "      <td>0.063832</td>\n",
              "      <td>569</td>\n",
              "      <td>0.712879</td>\n",
              "      <td>0.665721</td>\n",
              "      <td>0.673108</td>\n",
              "      <td>0.710482</td>\n",
              "      <td>0.460913</td>\n",
              "      <td>0.397081</td>\n",
              "      <td>0.521971</td>\n",
              "      <td>W07000058</td>\n",
              "      <td>0.026173</td>\n",
              "      <td>W07000058</td>\n",
              "      <td>0.046154</td>\n",
              "      <td>W07000058</td>\n",
              "      <td>0.274634</td>\n",
              "    </tr>\n",
              "    <tr>\n",
              "      <th>2</th>\n",
              "      <td>S14000001</td>\n",
              "      <td>S92000003</td>\n",
              "      <td>Aberdeen North</td>\n",
              "      <td>Scotland</td>\n",
              "      <td>Scotland</td>\n",
              "      <td>Scotland</td>\n",
              "      <td>Borough</td>\n",
              "      <td>2019-12-13 03:13:00</td>\n",
              "      <td>Kirsty</td>\n",
              "      <td>Blackman</td>\n",
              "      <td>Female</td>\n",
              "      <td>SNP hold</td>\n",
              "      <td>SNP</td>\n",
              "      <td>Con</td>\n",
              "      <td>62489</td>\n",
              "      <td>37413</td>\n",
              "      <td>72</td>\n",
              "      <td>12670</td>\n",
              "      <td>7535</td>\n",
              "      <td>4939</td>\n",
              "      <td>2846</td>\n",
              "      <td>1008</td>\n",
              "      <td>880</td>\n",
              "      <td>20205</td>\n",
              "      <td>0</td>\n",
              "      <td>0</td>\n",
              "      <td>0</td>\n",
              "      <td>0</td>\n",
              "      <td>0</td>\n",
              "      <td>0</td>\n",
              "      <td>0</td>\n",
              "      <td>0</td>\n",
              "      <td>Kirsty Blackman</td>\n",
              "      <td>0.338652</td>\n",
              "      <td>202</td>\n",
              "      <td>0.598713</td>\n",
              "      <td>0.680736</td>\n",
              "      <td>0.673108</td>\n",
              "      <td>0.591614</td>\n",
              "      <td>0.201401</td>\n",
              "      <td>0.132013</td>\n",
              "      <td>0.430922</td>\n",
              "      <td>S14000001</td>\n",
              "      <td>0.033311</td>\n",
              "      <td>S14000001</td>\n",
              "      <td>NaN</td>\n",
              "      <td>S14000001</td>\n",
              "      <td>0.137109</td>\n",
              "    </tr>\n",
              "    <tr>\n",
              "      <th>3</th>\n",
              "      <td>S14000002</td>\n",
              "      <td>S92000003</td>\n",
              "      <td>Aberdeen South</td>\n",
              "      <td>Scotland</td>\n",
              "      <td>Scotland</td>\n",
              "      <td>Scotland</td>\n",
              "      <td>Borough</td>\n",
              "      <td>2019-12-13 03:34:00</td>\n",
              "      <td>Stephen</td>\n",
              "      <td>Flynn</td>\n",
              "      <td>Male</td>\n",
              "      <td>SNP gain from Con</td>\n",
              "      <td>SNP</td>\n",
              "      <td>Con</td>\n",
              "      <td>65719</td>\n",
              "      <td>45638</td>\n",
              "      <td>131</td>\n",
              "      <td>3990</td>\n",
              "      <td>16398</td>\n",
              "      <td>3834</td>\n",
              "      <td>5018</td>\n",
              "      <td>0</td>\n",
              "      <td>0</td>\n",
              "      <td>20388</td>\n",
              "      <td>0</td>\n",
              "      <td>0</td>\n",
              "      <td>0</td>\n",
              "      <td>0</td>\n",
              "      <td>0</td>\n",
              "      <td>0</td>\n",
              "      <td>0</td>\n",
              "      <td>0</td>\n",
              "      <td>Stephen Flynn</td>\n",
              "      <td>0.087427</td>\n",
              "      <td>533</td>\n",
              "      <td>0.694441</td>\n",
              "      <td>0.680736</td>\n",
              "      <td>0.673108</td>\n",
              "      <td>0.684887</td>\n",
              "      <td>0.359306</td>\n",
              "      <td>0.084009</td>\n",
              "      <td>0.321431</td>\n",
              "      <td>S14000002</td>\n",
              "      <td>0.019850</td>\n",
              "      <td>S14000002</td>\n",
              "      <td>NaN</td>\n",
              "      <td>S14000002</td>\n",
              "      <td>0.161628</td>\n",
              "    </tr>\n",
              "    <tr>\n",
              "      <th>4</th>\n",
              "      <td>S14000003</td>\n",
              "      <td>S92000003</td>\n",
              "      <td>Airdrie and Shotts</td>\n",
              "      <td>Scotland</td>\n",
              "      <td>Scotland</td>\n",
              "      <td>Scotland</td>\n",
              "      <td>County</td>\n",
              "      <td>2019-12-13 02:59:00</td>\n",
              "      <td>Neil</td>\n",
              "      <td>Gray</td>\n",
              "      <td>Male</td>\n",
              "      <td>SNP hold</td>\n",
              "      <td>SNP</td>\n",
              "      <td>Lab</td>\n",
              "      <td>64011</td>\n",
              "      <td>39772</td>\n",
              "      <td>91</td>\n",
              "      <td>5201</td>\n",
              "      <td>7011</td>\n",
              "      <td>12728</td>\n",
              "      <td>1419</td>\n",
              "      <td>0</td>\n",
              "      <td>685</td>\n",
              "      <td>17929</td>\n",
              "      <td>0</td>\n",
              "      <td>0</td>\n",
              "      <td>0</td>\n",
              "      <td>0</td>\n",
              "      <td>0</td>\n",
              "      <td>0</td>\n",
              "      <td>0</td>\n",
              "      <td>0</td>\n",
              "      <td>Neil Gray</td>\n",
              "      <td>0.130770</td>\n",
              "      <td>459</td>\n",
              "      <td>0.621331</td>\n",
              "      <td>0.680736</td>\n",
              "      <td>0.673108</td>\n",
              "      <td>0.592430</td>\n",
              "      <td>0.176280</td>\n",
              "      <td>0.320024</td>\n",
              "      <td>0.398381</td>\n",
              "      <td>S14000003</td>\n",
              "      <td>0.040079</td>\n",
              "      <td>S14000003</td>\n",
              "      <td>NaN</td>\n",
              "      <td>S14000003</td>\n",
              "      <td>0.171167</td>\n",
              "    </tr>\n",
              "    <tr>\n",
              "      <th>...</th>\n",
              "      <td>...</td>\n",
              "      <td>...</td>\n",
              "      <td>...</td>\n",
              "      <td>...</td>\n",
              "      <td>...</td>\n",
              "      <td>...</td>\n",
              "      <td>...</td>\n",
              "      <td>...</td>\n",
              "      <td>...</td>\n",
              "      <td>...</td>\n",
              "      <td>...</td>\n",
              "      <td>...</td>\n",
              "      <td>...</td>\n",
              "      <td>...</td>\n",
              "      <td>...</td>\n",
              "      <td>...</td>\n",
              "      <td>...</td>\n",
              "      <td>...</td>\n",
              "      <td>...</td>\n",
              "      <td>...</td>\n",
              "      <td>...</td>\n",
              "      <td>...</td>\n",
              "      <td>...</td>\n",
              "      <td>...</td>\n",
              "      <td>...</td>\n",
              "      <td>...</td>\n",
              "      <td>...</td>\n",
              "      <td>...</td>\n",
              "      <td>...</td>\n",
              "      <td>...</td>\n",
              "      <td>...</td>\n",
              "      <td>...</td>\n",
              "      <td>...</td>\n",
              "      <td>...</td>\n",
              "      <td>...</td>\n",
              "      <td>...</td>\n",
              "      <td>...</td>\n",
              "      <td>...</td>\n",
              "      <td>...</td>\n",
              "      <td>...</td>\n",
              "      <td>...</td>\n",
              "      <td>...</td>\n",
              "      <td>...</td>\n",
              "      <td>...</td>\n",
              "      <td>...</td>\n",
              "      <td>...</td>\n",
              "      <td>...</td>\n",
              "      <td>...</td>\n",
              "    </tr>\n",
              "    <tr>\n",
              "      <th>645</th>\n",
              "      <td>E14001059</td>\n",
              "      <td>E12000002</td>\n",
              "      <td>Wythenshawe and Sale East</td>\n",
              "      <td>Greater Manchester</td>\n",
              "      <td>North West</td>\n",
              "      <td>England</td>\n",
              "      <td>Borough</td>\n",
              "      <td>2019-12-13 05:04:00</td>\n",
              "      <td>Michael</td>\n",
              "      <td>Kane</td>\n",
              "      <td>Male</td>\n",
              "      <td>Lab hold</td>\n",
              "      <td>Lab</td>\n",
              "      <td>Con</td>\n",
              "      <td>76313</td>\n",
              "      <td>44759</td>\n",
              "      <td>125</td>\n",
              "      <td>10396</td>\n",
              "      <td>13459</td>\n",
              "      <td>23855</td>\n",
              "      <td>3111</td>\n",
              "      <td>2717</td>\n",
              "      <td>1559</td>\n",
              "      <td>0</td>\n",
              "      <td>0</td>\n",
              "      <td>0</td>\n",
              "      <td>0</td>\n",
              "      <td>0</td>\n",
              "      <td>0</td>\n",
              "      <td>0</td>\n",
              "      <td>58</td>\n",
              "      <td>0</td>\n",
              "      <td>Michael Kane</td>\n",
              "      <td>0.232266</td>\n",
              "      <td>331</td>\n",
              "      <td>0.586519</td>\n",
              "      <td>0.656236</td>\n",
              "      <td>0.673108</td>\n",
              "      <td>0.600385</td>\n",
              "      <td>0.300699</td>\n",
              "      <td>0.532965</td>\n",
              "      <td>0.496481</td>\n",
              "      <td>E14001059</td>\n",
              "      <td>0.039245</td>\n",
              "      <td>E14001059</td>\n",
              "      <td>0.085714</td>\n",
              "      <td>E14001059</td>\n",
              "      <td>0.149229</td>\n",
              "    </tr>\n",
              "    <tr>\n",
              "      <th>646</th>\n",
              "      <td>E14001060</td>\n",
              "      <td>E12000009</td>\n",
              "      <td>Yeovil</td>\n",
              "      <td>Somerset</td>\n",
              "      <td>South West</td>\n",
              "      <td>England</td>\n",
              "      <td>County</td>\n",
              "      <td>2019-12-13 05:28:00</td>\n",
              "      <td>Marcus</td>\n",
              "      <td>Fysh</td>\n",
              "      <td>Male</td>\n",
              "      <td>Con hold</td>\n",
              "      <td>Con</td>\n",
              "      <td>LD</td>\n",
              "      <td>82468</td>\n",
              "      <td>59260</td>\n",
              "      <td>148</td>\n",
              "      <td>16181</td>\n",
              "      <td>34588</td>\n",
              "      <td>3761</td>\n",
              "      <td>18407</td>\n",
              "      <td>0</td>\n",
              "      <td>1629</td>\n",
              "      <td>0</td>\n",
              "      <td>0</td>\n",
              "      <td>0</td>\n",
              "      <td>0</td>\n",
              "      <td>0</td>\n",
              "      <td>0</td>\n",
              "      <td>0</td>\n",
              "      <td>875</td>\n",
              "      <td>0</td>\n",
              "      <td>Marcus Fysh</td>\n",
              "      <td>0.273051</td>\n",
              "      <td>279</td>\n",
              "      <td>0.718582</td>\n",
              "      <td>0.720191</td>\n",
              "      <td>0.673108</td>\n",
              "      <td>0.716436</td>\n",
              "      <td>0.583665</td>\n",
              "      <td>0.063466</td>\n",
              "      <td>0.598655</td>\n",
              "      <td>E14001060</td>\n",
              "      <td>0.021093</td>\n",
              "      <td>E14001060</td>\n",
              "      <td>0.024390</td>\n",
              "      <td>E14001060</td>\n",
              "      <td>0.241783</td>\n",
              "    </tr>\n",
              "    <tr>\n",
              "      <th>647</th>\n",
              "      <td>W07000041</td>\n",
              "      <td>W92000004</td>\n",
              "      <td>Ynys Mon</td>\n",
              "      <td>Gwynedd</td>\n",
              "      <td>Wales</td>\n",
              "      <td>Wales</td>\n",
              "      <td>County</td>\n",
              "      <td>2019-12-13 02:45:00</td>\n",
              "      <td>Virginia</td>\n",
              "      <td>Crosbie</td>\n",
              "      <td>Female</td>\n",
              "      <td>Con gain from Lab</td>\n",
              "      <td>Con</td>\n",
              "      <td>Lab</td>\n",
              "      <td>51925</td>\n",
              "      <td>36552</td>\n",
              "      <td>121</td>\n",
              "      <td>1968</td>\n",
              "      <td>12959</td>\n",
              "      <td>10991</td>\n",
              "      <td>0</td>\n",
              "      <td>2184</td>\n",
              "      <td>0</td>\n",
              "      <td>0</td>\n",
              "      <td>10418</td>\n",
              "      <td>0</td>\n",
              "      <td>0</td>\n",
              "      <td>0</td>\n",
              "      <td>0</td>\n",
              "      <td>0</td>\n",
              "      <td>0</td>\n",
              "      <td>0</td>\n",
              "      <td>Virginia Crosbie</td>\n",
              "      <td>0.053841</td>\n",
              "      <td>581</td>\n",
              "      <td>0.703938</td>\n",
              "      <td>0.665721</td>\n",
              "      <td>0.673108</td>\n",
              "      <td>0.706090</td>\n",
              "      <td>0.354536</td>\n",
              "      <td>0.300695</td>\n",
              "      <td>0.509420</td>\n",
              "      <td>W07000041</td>\n",
              "      <td>0.029914</td>\n",
              "      <td>W07000041</td>\n",
              "      <td>0.000147</td>\n",
              "      <td>W07000041</td>\n",
              "      <td>0.262096</td>\n",
              "    </tr>\n",
              "    <tr>\n",
              "      <th>648</th>\n",
              "      <td>E14001061</td>\n",
              "      <td>E12000003</td>\n",
              "      <td>York Central</td>\n",
              "      <td>North Yorkshire</td>\n",
              "      <td>Yorkshire and The Humber</td>\n",
              "      <td>England</td>\n",
              "      <td>Borough</td>\n",
              "      <td>2019-12-13 04:18:00</td>\n",
              "      <td>Rachael</td>\n",
              "      <td>Maskell</td>\n",
              "      <td>Female</td>\n",
              "      <td>Lab hold</td>\n",
              "      <td>Lab</td>\n",
              "      <td>Con</td>\n",
              "      <td>74899</td>\n",
              "      <td>49505</td>\n",
              "      <td>198</td>\n",
              "      <td>13545</td>\n",
              "      <td>13767</td>\n",
              "      <td>27312</td>\n",
              "      <td>4149</td>\n",
              "      <td>1479</td>\n",
              "      <td>2107</td>\n",
              "      <td>0</td>\n",
              "      <td>0</td>\n",
              "      <td>0</td>\n",
              "      <td>0</td>\n",
              "      <td>0</td>\n",
              "      <td>0</td>\n",
              "      <td>0</td>\n",
              "      <td>691</td>\n",
              "      <td>0</td>\n",
              "      <td>Rachael Maskell</td>\n",
              "      <td>0.273609</td>\n",
              "      <td>278</td>\n",
              "      <td>0.660957</td>\n",
              "      <td>0.643472</td>\n",
              "      <td>0.673108</td>\n",
              "      <td>0.686646</td>\n",
              "      <td>0.278093</td>\n",
              "      <td>0.551702</td>\n",
              "      <td>0.388207</td>\n",
              "      <td>E14001061</td>\n",
              "      <td>0.015197</td>\n",
              "      <td>E14001061</td>\n",
              "      <td>0.018265</td>\n",
              "      <td>E14001061</td>\n",
              "      <td>0.134920</td>\n",
              "    </tr>\n",
              "    <tr>\n",
              "      <th>649</th>\n",
              "      <td>E14001062</td>\n",
              "      <td>E12000003</td>\n",
              "      <td>York Outer</td>\n",
              "      <td>North Yorkshire</td>\n",
              "      <td>Yorkshire and The Humber</td>\n",
              "      <td>England</td>\n",
              "      <td>County</td>\n",
              "      <td>2019-12-13 04:35:00</td>\n",
              "      <td>Julian</td>\n",
              "      <td>Sturdy</td>\n",
              "      <td>Male</td>\n",
              "      <td>Con hold</td>\n",
              "      <td>Con</td>\n",
              "      <td>Lab</td>\n",
              "      <td>74673</td>\n",
              "      <td>55347</td>\n",
              "      <td>228</td>\n",
              "      <td>9985</td>\n",
              "      <td>27324</td>\n",
              "      <td>17339</td>\n",
              "      <td>9992</td>\n",
              "      <td>0</td>\n",
              "      <td>0</td>\n",
              "      <td>0</td>\n",
              "      <td>0</td>\n",
              "      <td>0</td>\n",
              "      <td>0</td>\n",
              "      <td>0</td>\n",
              "      <td>0</td>\n",
              "      <td>0</td>\n",
              "      <td>692</td>\n",
              "      <td>0</td>\n",
              "      <td>Julian Sturdy</td>\n",
              "      <td>0.180407</td>\n",
              "      <td>390</td>\n",
              "      <td>0.741192</td>\n",
              "      <td>0.643472</td>\n",
              "      <td>0.673108</td>\n",
              "      <td>0.757262</td>\n",
              "      <td>0.493685</td>\n",
              "      <td>0.313278</td>\n",
              "      <td>0.446677</td>\n",
              "      <td>E14001062</td>\n",
              "      <td>0.008313</td>\n",
              "      <td>E14001062</td>\n",
              "      <td>0.021569</td>\n",
              "      <td>E14001062</td>\n",
              "      <td>0.241406</td>\n",
              "    </tr>\n",
              "  </tbody>\n",
              "</table>\n",
              "<p>650 rows × 48 columns</p>\n",
              "</div>"
            ],
            "text/plain": [
              "        ons_id ons_region_id  ...   PCON11CD Age_percent\n",
              "0    W07000049     W92000004  ...  W07000049    0.196541\n",
              "1    W07000058     W92000004  ...  W07000058    0.274634\n",
              "2    S14000001     S92000003  ...  S14000001    0.137109\n",
              "3    S14000002     S92000003  ...  S14000002    0.161628\n",
              "4    S14000003     S92000003  ...  S14000003    0.171167\n",
              "..         ...           ...  ...        ...         ...\n",
              "645  E14001059     E12000002  ...  E14001059    0.149229\n",
              "646  E14001060     E12000009  ...  E14001060    0.241783\n",
              "647  W07000041     W92000004  ...  W07000041    0.262096\n",
              "648  E14001061     E12000003  ...  E14001061    0.134920\n",
              "649  E14001062     E12000003  ...  E14001062    0.241406\n",
              "\n",
              "[650 rows x 48 columns]"
            ]
          },
          "metadata": {
            "tags": []
          },
          "execution_count": 29
        }
      ]
    },
    {
      "cell_type": "markdown",
      "metadata": {
        "id": "hZ4584uuKTOo"
      },
      "source": [
        "# Basic visualisation"
      ]
    },
    {
      "cell_type": "markdown",
      "metadata": {
        "id": "tmjiEjL85Uqa"
      },
      "source": [
        "## Distribution conservative vote percentage, leave vote"
      ]
    },
    {
      "cell_type": "code",
      "metadata": {
        "id": "ER4ov1UeyqiS",
        "outputId": "abb2e185-d651-423d-df5c-f63df3e97367",
        "colab": {
          "base_uri": "https://localhost:8080/",
          "height": 405
        }
      },
      "source": [
        "fig, axes = plt.subplots(1,2, figsize = (10, 6))\n",
        "sns.histplot(x = 'con_pct', data = df_merge, ax = axes[0])\n",
        "sns.histplot(x = 'leave_pct', data=df_merge, ax=axes[1])"
      ],
      "execution_count": 17,
      "outputs": [
        {
          "output_type": "execute_result",
          "data": {
            "text/plain": [
              "<matplotlib.axes._subplots.AxesSubplot at 0x7ff616409a90>"
            ]
          },
          "metadata": {
            "tags": []
          },
          "execution_count": 17
        },
        {
          "output_type": "display_data",
          "data": {
            "image/png": "[encoded data removed]",
            "text/plain": [
              "<Figure size 720x432 with 2 Axes>"
            ]
          },
          "metadata": {
            "tags": []
          }
        }
      ]
    },
    {
      "cell_type": "markdown",
      "metadata": {
        "id": "8Yff1hub5-Ze"
      },
      "source": [
        "## Scatter plot"
      ]
    },
    {
      "cell_type": "markdown",
      "metadata": {
        "id": "5Nil1CQWfpF-"
      },
      "source": [
        "### conservative vote against leave vote"
      ]
    },
    {
      "cell_type": "code",
      "metadata": {
        "id": "xL_27kBy2ZN4",
        "outputId": "0e6a3e88-7a83-44ac-a856-fc13299526ca",
        "colab": {
          "base_uri": "https://localhost:8080/",
          "height": 296
        }
      },
      "source": [
        "sns.scatterplot(x = 'con_pct', y = 'leave_pct', data = df_merge)"
      ],
      "execution_count": 19,
      "outputs": [
        {
          "output_type": "execute_result",
          "data": {
            "text/plain": [
              "<matplotlib.axes._subplots.AxesSubplot at 0x7ff61aea0a20>"
            ]
          },
          "metadata": {
            "tags": []
          },
          "execution_count": 19
        },
        {
          "output_type": "display_data",
          "data": {
            "image/png": "[encoded data removed]",
            "text/plain": [
              "<Figure size 432x288 with 1 Axes>"
            ]
          },
          "metadata": {
            "tags": []
          }
        }
      ]
    },
    {
      "cell_type": "markdown",
      "metadata": {
        "id": "XGxLsTXFfxrB"
      },
      "source": [
        "### conservative vote against leave vote, by country"
      ]
    },
    {
      "cell_type": "code",
      "metadata": {
        "id": "RkunwiPM2asq",
        "outputId": "3bfb3d5a-e989-4d37-eb07-d6a1356432f6",
        "colab": {
          "base_uri": "https://localhost:8080/",
          "height": 350
        }
      },
      "source": [
        "plt.figure(figsize=(7,5))\n",
        "sns.scatterplot(x = 'con_pct', y = 'leave_pct', data = df_merge, hue = 'country_name')"
      ],
      "execution_count": 32,
      "outputs": [
        {
          "output_type": "execute_result",
          "data": {
            "text/plain": [
              "<matplotlib.axes._subplots.AxesSubplot at 0x7ff61694c0f0>"
            ]
          },
          "metadata": {
            "tags": []
          },
          "execution_count": 32
        },
        {
          "output_type": "display_data",
          "data": {
            "image/png": "[encoded data removed]",
            "text/plain": [
              "<Figure size 504x360 with 1 Axes>"
            ]
          },
          "metadata": {
            "tags": []
          }
        }
      ]
    },
    {
      "cell_type": "markdown",
      "metadata": {
        "id": "tXUYFl0x6zQ2"
      },
      "source": [
        "## Do similar with joint plot"
      ]
    },
    {
      "cell_type": "code",
      "metadata": {
        "id": "qqWms_jH2cfw",
        "outputId": "57f922df-1c9f-4824-8b36-a76e10fdff80",
        "colab": {
          "base_uri": "https://localhost:8080/",
          "height": 473
        }
      },
      "source": [
        "plt.figure(figsize=(7,5))\n",
        "sns.jointplot(x = 'con_pct', y = 'leave_pct', data = df_merge)"
      ],
      "execution_count": 33,
      "outputs": [
        {
          "output_type": "execute_result",
          "data": {
            "text/plain": [
              "<seaborn.axisgrid.JointGrid at 0x7ff619128898>"
            ]
          },
          "metadata": {
            "tags": []
          },
          "execution_count": 33
        },
        {
          "output_type": "display_data",
          "data": {
            "text/plain": [
              "<Figure size 504x360 with 0 Axes>"
            ]
          },
          "metadata": {
            "tags": []
          }
        },
        {
          "output_type": "display_data",
          "data": {
            "image/png": "[encoded data removed]",
            "text/plain": [
              "<Figure size 432x432 with 3 Axes>"
            ]
          },
          "metadata": {
            "tags": []
          }
        }
      ]
    },
    {
      "cell_type": "markdown",
      "metadata": {
        "id": "2iavLujI7HPj"
      },
      "source": [
        "### Subset the data with england, and plot by region"
      ]
    },
    {
      "cell_type": "code",
      "metadata": {
        "id": "XIEY0kJ02fCs",
        "outputId": "579f83a8-6a30-4e0a-b07f-88bbd1d2bfc6",
        "colab": {
          "base_uri": "https://localhost:8080/",
          "height": 473
        }
      },
      "source": [
        "plt.figure(figsize=(7,5))\n",
        "sns.jointplot(x = 'con_pct', y = 'leave_pct', data=df_merge)"
      ],
      "execution_count": 40,
      "outputs": [
        {
          "output_type": "execute_result",
          "data": {
            "text/plain": [
              "<seaborn.axisgrid.JointGrid at 0x7ff6189b8da0>"
            ]
          },
          "metadata": {
            "tags": []
          },
          "execution_count": 40
        },
        {
          "output_type": "display_data",
          "data": {
            "text/plain": [
              "<Figure size 504x360 with 0 Axes>"
            ]
          },
          "metadata": {
            "tags": []
          }
        },
        {
          "output_type": "display_data",
          "data": {
            "image/png": "[encoded data removed]",
            "text/plain": [
              "<Figure size 432x432 with 3 Axes>"
            ]
          },
          "metadata": {
            "tags": []
          }
        }
      ]
    },
    {
      "cell_type": "markdown",
      "metadata": {
        "id": "pGv6w0KWgUUx"
      },
      "source": [
        "### Use only London"
      ]
    },
    {
      "cell_type": "code",
      "metadata": {
        "id": "Zch-RKhF7s5A"
      },
      "source": [
        ""
      ],
      "execution_count": null,
      "outputs": []
    },
    {
      "cell_type": "markdown",
      "metadata": {
        "id": "yqR6SUkO8kAi"
      },
      "source": [
        "## Box and Violin"
      ]
    },
    {
      "cell_type": "markdown",
      "metadata": {
        "id": "DfT4xbG3ggzq"
      },
      "source": [
        "### Unemployment across regions"
      ]
    },
    {
      "cell_type": "code",
      "metadata": {
        "id": "YkbUkfqu2hvg"
      },
      "source": [
        ""
      ],
      "execution_count": null,
      "outputs": []
    },
    {
      "cell_type": "markdown",
      "metadata": {
        "id": "yYKOY5uKg462"
      },
      "source": [
        "### Leave vote across regions"
      ]
    },
    {
      "cell_type": "code",
      "metadata": {
        "id": "74wb-PWA2j1O"
      },
      "source": [
        ""
      ],
      "execution_count": null,
      "outputs": []
    },
    {
      "cell_type": "markdown",
      "metadata": {
        "id": "YfLpZipH7912"
      },
      "source": [
        "## Pairplot"
      ]
    },
    {
      "cell_type": "code",
      "metadata": {
        "id": "NBqBhlIH2la9"
      },
      "source": [
        ""
      ],
      "execution_count": null,
      "outputs": []
    },
    {
      "cell_type": "markdown",
      "metadata": {
        "id": "x2WHbDQsab_k"
      },
      "source": [
        "# Heatmap\n",
        "\n",
        "Heatmat is one of the good tool for telling a story with data. \n",
        "\n",
        "For example, the figure, included in the slides used by the scientific advisor at the press conference for second lockdown announcement, conveys a rich information about the general tendency across the regions and age groups (see page 5).\n",
        "\n",
        "https://assets.publishing.service.gov.uk/government/uploads/system/uploads/attachment_data/file/931774/Slides_to_accompany_coronavirus_press_conference-_CMO-_31_October_2020.pdf\n",
        "\n",
        "We will create a simple heatmap from the correlation table:"
      ]
    },
    {
      "cell_type": "code",
      "metadata": {
        "id": "YqkmeJasbfzJ"
      },
      "source": [
        "tab_cor = df_merge.loc[:, ['con_pct', 'lab_pct','leave_pct', 'Age_percent', 'ConstPercentChangeOneYr', 'UnempConstRate']].corr()\n",
        "tab_cor"
      ],
      "execution_count": null,
      "outputs": []
    },
    {
      "cell_type": "markdown",
      "metadata": {
        "id": "vRIS6aYCet5v"
      },
      "source": [
        "# Plotting the values on the map\n",
        "\n",
        "Here, we will see how to create a figure using a map. Whether you can craete a map figure largely depends on the availability of shapfiles, which describes the shapes of polygons for the geographical boudaries. Once you find the file, it is not too complicated.\n",
        "\n",
        "First, we install a package to work with shapefiles in pandas/matplotlib."
      ]
    },
    {
      "cell_type": "markdown",
      "metadata": {
        "id": "OPAkFTpeoqpq"
      },
      "source": [
        "### Install geopandas"
      ]
    },
    {
      "cell_type": "code",
      "metadata": {
        "id": "ZPNkXeWVetc6"
      },
      "source": [
        "!pip install geopandas"
      ],
      "execution_count": null,
      "outputs": []
    },
    {
      "cell_type": "code",
      "metadata": {
        "id": "dgtU4d5mgg5G"
      },
      "source": [
        "import geopandas as gpd"
      ],
      "execution_count": null,
      "outputs": []
    },
    {
      "cell_type": "markdown",
      "metadata": {
        "id": "OTTZTigCf67S"
      },
      "source": [
        "### Unzip shapefile"
      ]
    },
    {
      "cell_type": "code",
      "metadata": {
        "id": "cTdAJnHKf47-"
      },
      "source": [
        "!unzip /content/GV918-UK-politics-data/Data/Westminster_Parliamentary_Constituencies__December_2017__Boundaries_UK-shp.zip \\\n",
        " -d /content/const-shape"
      ],
      "execution_count": null,
      "outputs": []
    },
    {
      "cell_type": "code",
      "metadata": {
        "id": "1PyGjbwT4kwi"
      },
      "source": [
        "!ls /content/const-shape"
      ],
      "execution_count": null,
      "outputs": []
    },
    {
      "cell_type": "code",
      "metadata": {
        "id": "KibBCXyPoy5E"
      },
      "source": [
        ""
      ],
      "execution_count": null,
      "outputs": []
    },
    {
      "cell_type": "markdown",
      "metadata": {
        "id": "7oEWpApoozTT"
      },
      "source": [
        "### Read the shapefile"
      ]
    },
    {
      "cell_type": "code",
      "metadata": {
        "id": "rrDl_R2Gdg6p"
      },
      "source": [
        "df_map = gpd.read_file('/content/const-shape/Westminster_Parliamentary_Constituencies__December_2017__Boundaries_UK.shp')"
      ],
      "execution_count": null,
      "outputs": []
    },
    {
      "cell_type": "code",
      "metadata": {
        "id": "9C8tI_s020_J"
      },
      "source": [
        ""
      ],
      "execution_count": null,
      "outputs": []
    },
    {
      "cell_type": "markdown",
      "metadata": {
        "id": "rxV5rPIGiI8l"
      },
      "source": [
        "## Plot map"
      ]
    },
    {
      "cell_type": "code",
      "metadata": {
        "id": "eUWAW4wy23B5"
      },
      "source": [
        ""
      ],
      "execution_count": null,
      "outputs": []
    },
    {
      "cell_type": "markdown",
      "metadata": {
        "id": "Zkcqkym7ibjF"
      },
      "source": [
        "### Merge political dataset\n",
        "\n"
      ]
    },
    {
      "cell_type": "code",
      "metadata": {
        "id": "hL4NRm6224jC"
      },
      "source": [
        ""
      ],
      "execution_count": null,
      "outputs": []
    },
    {
      "cell_type": "markdown",
      "metadata": {
        "id": "c22edAbVhlED"
      },
      "source": [
        "### Two maps: UK and London Separately"
      ]
    },
    {
      "cell_type": "code",
      "metadata": {
        "id": "dyUGzF5l27j8"
      },
      "source": [
        ""
      ],
      "execution_count": null,
      "outputs": []
    },
    {
      "cell_type": "markdown",
      "metadata": {
        "id": "uvM0RiktpCr4"
      },
      "source": [
        "### Plot Leave Percentage"
      ]
    },
    {
      "cell_type": "code",
      "metadata": {
        "id": "G1MWA4yI3Ao6"
      },
      "source": [
        ""
      ],
      "execution_count": null,
      "outputs": []
    },
    {
      "cell_type": "markdown",
      "metadata": {
        "id": "0GkI30uopLg2"
      },
      "source": [
        "### Plot leave percentage (UK and London, two maps)"
      ]
    },
    {
      "cell_type": "code",
      "metadata": {
        "id": "FSZvA-iI3BiP"
      },
      "source": [
        ""
      ],
      "execution_count": null,
      "outputs": []
    },
    {
      "cell_type": "markdown",
      "metadata": {
        "id": "4lp_UPptpY1O"
      },
      "source": [
        "### Final figure"
      ]
    },
    {
      "cell_type": "code",
      "metadata": {
        "id": "ksX_81yxjyE5"
      },
      "source": [
        ""
      ],
      "execution_count": null,
      "outputs": []
    },
    {
      "cell_type": "markdown",
      "metadata": {
        "id": "tQWfYF0wjxdO"
      },
      "source": [
        "### Categorical (winning parties)"
      ]
    },
    {
      "cell_type": "code",
      "metadata": {
        "id": "4lhsr--7mfzD"
      },
      "source": [
        ""
      ],
      "execution_count": null,
      "outputs": []
    }
  ]
}